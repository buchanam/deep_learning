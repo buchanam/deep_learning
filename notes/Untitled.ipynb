{
 "cells": [
  {
   "cell_type": "markdown",
   "metadata": {},
   "source": [
    "# The Basics"
   ]
  },
  {
   "cell_type": "markdown",
   "metadata": {},
   "source": [
    "__Supervised ML__: find the function $f$ so that $f(x)\\cong y$ where $x$ is the set of given datapoints and $y$ is the predicted \"answer\" to those datapoints given by the model. For example, if trying to predict house prices, $x$ would be information such as year build, house size, rooms, etc. and $y$ would be the actual set of prices for the given houses."
   ]
  },
  {
   "cell_type": "markdown",
   "metadata": {},
   "source": [
    "## Linear Classifiers"
   ]
  },
  {
   "cell_type": "markdown",
   "metadata": {},
   "source": [
    "Uses a linear function to attempt to classify given vector $x$ of input data. "
   ]
  },
  {
   "cell_type": "markdown",
   "metadata": {},
   "source": [
    "Model: $f(x_i, w, b) = w^Tx_i+b$\n",
    "where\n",
    "\n",
    "$x_i$ : input [dxl]\n",
    "\n",
    "$w$ : parameters vector [dxl]\n",
    "\n",
    "$b$ : bias (scalar)"
   ]
  },
  {
   "cell_type": "markdown",
   "metadata": {},
   "source": []
  }
 ],
 "metadata": {
  "kernelspec": {
   "display_name": "Python 3",
   "language": "python",
   "name": "python3"
  },
  "language_info": {
   "codemirror_mode": {
    "name": "ipython",
    "version": 3
   },
   "file_extension": ".py",
   "mimetype": "text/x-python",
   "name": "python",
   "nbconvert_exporter": "python",
   "pygments_lexer": "ipython3",
   "version": "3.7.4"
  }
 },
 "nbformat": 4,
 "nbformat_minor": 2
}
