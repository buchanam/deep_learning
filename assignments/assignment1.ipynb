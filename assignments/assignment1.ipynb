{
  "nbformat": 4,
  "nbformat_minor": 0,
  "metadata": {
    "colab": {
      "name": "assignment1.ipynb",
      "provenance": [],
      "collapsed_sections": [
        "6x8Y7zIO9mo5",
        "i9kTwB4T99I7",
        "c5_AFNP51NOR"
      ]
    },
    "kernelspec": {
      "name": "python3",
      "display_name": "Python 3"
    },
    "accelerator": "GPU"
  },
  "cells": [
    {
      "cell_type": "markdown",
      "metadata": {
        "id": "6x8Y7zIO9mo5",
        "colab_type": "text"
      },
      "source": [
        "# CS 419: Assignment 1\n",
        "\n",
        "Michaela Buchanan\n",
        "\n",
        "\n",
        "---\n",
        "\n"
      ]
    },
    {
      "cell_type": "code",
      "metadata": {
        "id": "PC-tefQ_97w7",
        "colab_type": "code",
        "colab": {}
      },
      "source": [
        "#!pip install tensorflow-gpu\n",
        "#!pip install keras"
      ],
      "execution_count": 0,
      "outputs": []
    },
    {
      "cell_type": "markdown",
      "metadata": {
        "id": "i9kTwB4T99I7",
        "colab_type": "text"
      },
      "source": [
        "\n",
        "\n",
        "---\n",
        "\n",
        "\n",
        "# Textbook Code (pg 27-30)"
      ]
    },
    {
      "cell_type": "markdown",
      "metadata": {
        "id": "cTuRJt2D-caG",
        "colab_type": "text"
      },
      "source": [
        "Importing the MNIST dataset and creating the training and test datasets"
      ]
    },
    {
      "cell_type": "code",
      "metadata": {
        "id": "vxLZ_qwc-Q1i",
        "colab_type": "code",
        "outputId": "3cb8fff8-e3da-4da6-d3a9-58ee7f82f7c8",
        "colab": {
          "base_uri": "https://localhost:8080/",
          "height": 0
        }
      },
      "source": [
        "from keras.datasets import mnist\n",
        "(train_images, train_labels), (test_images, test_labels) = mnist.load_data()"
      ],
      "execution_count": 2,
      "outputs": [
        {
          "output_type": "stream",
          "text": [
            "Using TensorFlow backend.\n"
          ],
          "name": "stderr"
        },
        {
          "output_type": "stream",
          "text": [
            "Downloading data from https://s3.amazonaws.com/img-datasets/mnist.npz\n",
            "11493376/11490434 [==============================] - 1s 0us/step\n"
          ],
          "name": "stdout"
        }
      ]
    },
    {
      "cell_type": "markdown",
      "metadata": {
        "id": "0q8_4Wcg_a2X",
        "colab_type": "text"
      },
      "source": [
        "Taking a look at our downloaded dataset characteristics"
      ]
    },
    {
      "cell_type": "code",
      "metadata": {
        "id": "fy6Jx96b_mDj",
        "colab_type": "code",
        "outputId": "e48ecc00-fa47-4fff-a2e5-21f92ff00ec6",
        "colab": {
          "base_uri": "https://localhost:8080/",
          "height": 0
        }
      },
      "source": [
        "print(train_images.shape)\n",
        "print(len(train_labels))\n",
        "print(train_labels)\n",
        "\n",
        "print(test_images.shape)\n",
        "print(len(test_labels))\n",
        "print(test_labels)"
      ],
      "execution_count": 3,
      "outputs": [
        {
          "output_type": "stream",
          "text": [
            "(60000, 28, 28)\n",
            "60000\n",
            "[5 0 4 ... 5 6 8]\n",
            "(10000, 28, 28)\n",
            "10000\n",
            "[7 2 1 ... 4 5 6]\n"
          ],
          "name": "stdout"
        }
      ]
    },
    {
      "cell_type": "markdown",
      "metadata": {
        "id": "qhBMlWtABRwD",
        "colab_type": "text"
      },
      "source": [
        "We now know that the training dataset has 60,000 samples and the testing dataset has 10,000 samples. Time to start creating the neural network!"
      ]
    },
    {
      "cell_type": "code",
      "metadata": {
        "id": "1AKwgQgABeIu",
        "colab_type": "code",
        "outputId": "07f52b42-8f34-4342-80c8-058e9af5d8a5",
        "colab": {
          "base_uri": "https://localhost:8080/",
          "height": 0
        }
      },
      "source": [
        "from tensorflow.keras import models, layers\n",
        "\n",
        "network = models.Sequential()\n",
        "network.add(layers.Dense(512, activation='relu', input_shape=(28 * 28,)))\n",
        "network.add(layers.Dense(10, activation='softmax'))"
      ],
      "execution_count": 4,
      "outputs": [
        {
          "output_type": "stream",
          "text": [
            "WARNING:tensorflow:From /usr/local/lib/python3.6/dist-packages/tensorflow_core/python/ops/resource_variable_ops.py:1630: calling BaseResourceVariable.__init__ (from tensorflow.python.ops.resource_variable_ops) with constraint is deprecated and will be removed in a future version.\n",
            "Instructions for updating:\n",
            "If using Keras pass *_constraint arguments to layers.\n"
          ],
          "name": "stdout"
        }
      ]
    },
    {
      "cell_type": "markdown",
      "metadata": {
        "id": "svD_jFWUC8S_",
        "colab_type": "text"
      },
      "source": [
        "*Note: had to change*\n",
        "\n",
        "```\n",
        "from keras import ...\n",
        "```\n",
        "\n",
        "*to*\n",
        "\n",
        "```\n",
        "from tensorflow.keras import ...\n",
        "```\n",
        "*to get it to import correctly*\n",
        "\n",
        "\n",
        "This creates a basic neural network with one hidden RELU layer. Both of the layers created above are **dense** layers which means that they are fully connected in a data flow context. The last softmax layer does the actual classifying by returning 10 probabilities for each of the different classes.\n",
        "\n"
      ]
    },
    {
      "cell_type": "code",
      "metadata": {
        "id": "1BURjQRaEE4m",
        "colab_type": "code",
        "colab": {}
      },
      "source": [
        "network.compile(optimizer='rmsprop',\n",
        "                loss='categorical_crossentropy',\n",
        "                metrics=['accuracy'])"
      ],
      "execution_count": 0,
      "outputs": []
    },
    {
      "cell_type": "markdown",
      "metadata": {
        "id": "k5s8V7wbx1ak",
        "colab_type": "text"
      },
      "source": [
        "Now we need to set up a few more things before we start training. The optimizer (in this case rmsprop) updates the network based on the loss function and the data fed in. The loss function measures the performance of the network so far on the given training data. The metric tells the network what performance metric we care about (in this case classification accuracy)."
      ]
    },
    {
      "cell_type": "markdown",
      "metadata": {
        "id": "RRCryag8ypHL",
        "colab_type": "text"
      },
      "source": [
        "Finally, we need to preprocess our input data so it takes the form that our network expects."
      ]
    },
    {
      "cell_type": "code",
      "metadata": {
        "id": "R7qhuelhy2s2",
        "colab_type": "code",
        "colab": {}
      },
      "source": [
        "train_images = train_images.reshape((60000, 28 * 28))\n",
        "train_images = train_images.astype('float32') / 255\n",
        "\n",
        "test_images = test_images.reshape((10000, 28 * 28))\n",
        "test_images = test_images.astype('float32') / 255"
      ],
      "execution_count": 0,
      "outputs": []
    },
    {
      "cell_type": "markdown",
      "metadata": {
        "id": "F7IIav9KzaZe",
        "colab_type": "text"
      },
      "source": [
        "Then we create labels for our data."
      ]
    },
    {
      "cell_type": "code",
      "metadata": {
        "id": "24-wB8uKzoLv",
        "colab_type": "code",
        "colab": {}
      },
      "source": [
        "from keras.utils import to_categorical\n",
        "train_labels = to_categorical(train_labels)\n",
        "test_labels = to_categorical(test_labels)"
      ],
      "execution_count": 0,
      "outputs": []
    },
    {
      "cell_type": "markdown",
      "metadata": {
        "id": "GKpgO1WbztzW",
        "colab_type": "text"
      },
      "source": [
        "We are now ready to train! In Keras, you start training by using the `fit` method."
      ]
    },
    {
      "cell_type": "code",
      "metadata": {
        "id": "ymXNVhgMz5AM",
        "colab_type": "code",
        "outputId": "0c704ddc-8a95-4d9a-a46d-ed8caef4638a",
        "colab": {
          "base_uri": "https://localhost:8080/",
          "height": 0
        }
      },
      "source": [
        "network.fit(train_images, train_labels, epochs=5, batch_size=128)"
      ],
      "execution_count": 8,
      "outputs": [
        {
          "output_type": "stream",
          "text": [
            "Train on 60000 samples\n",
            "Epoch 1/5\n",
            "60000/60000 [==============================] - 3s 44us/sample - loss: 0.2587 - acc: 0.9259\n",
            "Epoch 2/5\n",
            "60000/60000 [==============================] - 2s 32us/sample - loss: 0.1033 - acc: 0.9696\n",
            "Epoch 3/5\n",
            "60000/60000 [==============================] - 2s 32us/sample - loss: 0.0678 - acc: 0.9797\n",
            "Epoch 4/5\n",
            "60000/60000 [==============================] - 2s 32us/sample - loss: 0.0497 - acc: 0.9847\n",
            "Epoch 5/5\n",
            "60000/60000 [==============================] - 2s 31us/sample - loss: 0.0372 - acc: 0.9886\n"
          ],
          "name": "stdout"
        },
        {
          "output_type": "execute_result",
          "data": {
            "text/plain": [
              "<tensorflow.python.keras.callbacks.History at 0x7f4e991e5e10>"
            ]
          },
          "metadata": {
            "tags": []
          },
          "execution_count": 8
        }
      ]
    },
    {
      "cell_type": "markdown",
      "metadata": {
        "id": "fyRGRx1h0TJF",
        "colab_type": "text"
      },
      "source": [
        "Next, we test our newly trained network on our test dataset to test for overfitting.\n",
        "\n",
        "---\n",
        "\n"
      ]
    },
    {
      "cell_type": "code",
      "metadata": {
        "id": "PfPtRyrX0hfR",
        "colab_type": "code",
        "outputId": "c4f00141-046f-4a37-fb3e-68c7efc42521",
        "colab": {
          "base_uri": "https://localhost:8080/",
          "height": 0
        }
      },
      "source": [
        "test_loss, test_acc = network.evaluate(test_images, test_labels)\n",
        "print('test_acc:', test_acc)"
      ],
      "execution_count": 9,
      "outputs": [
        {
          "output_type": "stream",
          "text": [
            "10000/10000 [==============================] - 1s 79us/sample - loss: 0.0713 - acc: 0.9785\n",
            "test_acc: 0.9785\n"
          ],
          "name": "stdout"
        }
      ]
    },
    {
      "cell_type": "markdown",
      "metadata": {
        "id": "gvIB-23y08Gy",
        "colab_type": "text"
      },
      "source": [
        "The accuracy for the test set is a bit lower than the training accuracy, indicating that some overfitting is taking place."
      ]
    },
    {
      "cell_type": "markdown",
      "metadata": {
        "id": "c5_AFNP51NOR",
        "colab_type": "text"
      },
      "source": [
        "\n",
        "\n",
        "---\n",
        "# Step 2\n"
      ]
    },
    {
      "cell_type": "markdown",
      "metadata": {
        "id": "TDvoSjc6ANTG",
        "colab_type": "text"
      },
      "source": [
        "Creating our training and testing datasets for testing our functions. These consist of 10,000 size 5 tuples and 1,000 size 5 tuples of random floats between 0 and 1 respectively."
      ]
    },
    {
      "cell_type": "code",
      "metadata": {
        "id": "7Jdm5ruI1oWC",
        "colab_type": "code",
        "colab": {}
      },
      "source": [
        "import numpy as np\n",
        "my_x_train = np.random.random_sample((10000,5))\n",
        "my_x_test = np.random.random_sample((1000,5))"
      ],
      "execution_count": 0,
      "outputs": []
    },
    {
      "cell_type": "markdown",
      "metadata": {
        "id": "nJLVElhKCI8m",
        "colab_type": "text"
      },
      "source": [
        "Below I will set up the model which will be used for testing my three functions. I chose to pursue a regression approach to this problem. Since using accuracy as a metric for a regression problem doesn't make much sense, I switched to a mean absolute error metric to evaluate the model's performance. "
      ]
    },
    {
      "cell_type": "markdown",
      "metadata": {
        "id": "EgvHP_pV3Gca",
        "colab_type": "text"
      },
      "source": [
        "\n",
        "\n",
        "---\n",
        "\n",
        "\n",
        "**Function #1**\n",
        "\n",
        "For the example, I used the following function:\n",
        "f(x)=x1 + (x2 * 2) + (x3 * 3) + (x4 * 4) + (x5 * 5)\n",
        "\n",
        "I got a MAE of ~0.418 on the testing dataset with my first initialization of the random dataset."
      ]
    },
    {
      "cell_type": "code",
      "metadata": {
        "id": "tYCTiXTuCE0X",
        "colab_type": "code",
        "outputId": "d3c28e89-1253-47d0-e797-18c45dcbdf88",
        "colab": {
          "base_uri": "https://localhost:8080/",
          "height": 243
        }
      },
      "source": [
        "from tensorflow.keras import models, layers\n",
        "\n",
        "# create labels for each function\n",
        "f1_train_labels = np.zeros(shape=(10000,1))\n",
        "f1_test_labels = np.zeros(shape=(1000,1))\n",
        "\n",
        "for x in range (0,9999):\n",
        "  f1_train_labels[x] = float(my_x_train[x][0] + my_x_train[x][1]*2 + my_x_train[x][2]*3 + my_x_train[x][3]*4 + my_x_train[x][4]*5)\n",
        "\n",
        "for y in range (0,999):\n",
        "  f1_test_labels[y] = float(my_x_test[y][0] + my_x_test[y][1]*2 + my_x_test[y][2]*3 + my_x_test[y][3]*4 + my_x_test[y][4]*5)\n",
        "\n",
        "\n",
        "# create model\n",
        "network = models.Sequential()\n",
        "network.add(layers.Dense(10000, activation='relu', input_shape=(5,)))\n",
        "network.add(layers.Dense(1, activation='linear'))\n",
        "\n",
        "# network compile\n",
        "network.compile(optimizer='rmsprop', \n",
        "  loss='mean_squared_error',\n",
        "  metrics=['mae'])\n",
        "\n",
        "\n",
        "# fit model (training)\n",
        "history = network.fit(my_x_train, f1_train_labels, epochs=5, batch_size=128)\n",
        "\n",
        "# evaluate results\n",
        "loss, mae = network.evaluate(my_x_test, f1_test_labels)\n",
        "print(\"Testing Set MAE: \" + str(mae))\n"
      ],
      "execution_count": 11,
      "outputs": [
        {
          "output_type": "stream",
          "text": [
            "Train on 10000 samples\n",
            "Epoch 1/5\n",
            "10000/10000 [==============================] - 0s 39us/sample - loss: 2.8502 - mean_absolute_error: 0.9069\n",
            "Epoch 2/5\n",
            "10000/10000 [==============================] - 0s 31us/sample - loss: 0.2016 - mean_absolute_error: 0.4205\n",
            "Epoch 3/5\n",
            "10000/10000 [==============================] - 0s 33us/sample - loss: 0.1751 - mean_absolute_error: 0.3968\n",
            "Epoch 4/5\n",
            "10000/10000 [==============================] - 0s 33us/sample - loss: 0.1593 - mean_absolute_error: 0.3811\n",
            "Epoch 5/5\n",
            "10000/10000 [==============================] - 0s 29us/sample - loss: 0.1537 - mean_absolute_error: 0.3728\n",
            "1000/1000 [==============================] - 0s 89us/sample - loss: 0.1431 - mean_absolute_error: 0.2166\n",
            "Testing Set MAE: 0.21663305\n"
          ],
          "name": "stdout"
        }
      ]
    },
    {
      "cell_type": "markdown",
      "metadata": {
        "id": "DlV4FwVVtoK6",
        "colab_type": "text"
      },
      "source": [
        "\n",
        "\n",
        "---\n",
        "\n",
        "\n",
        "**Function #2**\n",
        "\n",
        "For this function I chose to try f(x) = x1 + (x2)^2 + (x3)^3 + (x4)^4 + (x5)^5\n",
        "\n",
        "I got a MAE of ~0.094 on the testing dataset with my first initialization of the random dataset."
      ]
    },
    {
      "cell_type": "code",
      "metadata": {
        "id": "y_Qxr6ccI9o4",
        "colab_type": "code",
        "outputId": "99b31097-7893-423a-c993-93852833db51",
        "colab": {
          "base_uri": "https://localhost:8080/",
          "height": 243
        }
      },
      "source": [
        "from tensorflow.keras import models, layers\n",
        "\n",
        "# create labels for each function\n",
        "f2_train_labels = np.zeros(shape=(10000,1))\n",
        "f2_test_labels = np.zeros(shape=(1000,1))\n",
        "\n",
        "for x in range (0,9999):\n",
        "  f2_train_labels[x] = float(my_x_train[x][0] + my_x_train[x][1]**2 + my_x_train[x][2]**3 + my_x_train[x][3]**4 + my_x_train[x][4]**5)\n",
        "\n",
        "for y in range (0,999):\n",
        "  f2_test_labels[y] = float(my_x_test[y][0] + my_x_test[y][1]**2 + my_x_test[y][2]**3 + my_x_test[y][3]**4 + my_x_test[y][4]**5)\n",
        "\n",
        "\n",
        "# create model\n",
        "network = models.Sequential()\n",
        "network.add(layers.Dense(10000, activation='relu', input_shape=(5,)))\n",
        "network.add(layers.Dense(1, activation='linear'))\n",
        "\n",
        "# network compile\n",
        "network.compile(optimizer='rmsprop', \n",
        "  loss='mean_squared_error',\n",
        "  metrics=['mae'])\n",
        "\n",
        "\n",
        "# fit model (training)\n",
        "network.fit(my_x_train, f2_train_labels, epochs=5, batch_size=128)\n",
        "\n",
        "# evaluate results\n",
        "loss, mae = network.evaluate(my_x_test, f2_test_labels)\n",
        "print(\"Testing Set MAE: \" + str(mae))"
      ],
      "execution_count": 12,
      "outputs": [
        {
          "output_type": "stream",
          "text": [
            "Train on 10000 samples\n",
            "Epoch 1/5\n",
            "10000/10000 [==============================] - 0s 38us/sample - loss: 0.1437 - mean_absolute_error: 0.2794\n",
            "Epoch 2/5\n",
            "10000/10000 [==============================] - 0s 32us/sample - loss: 0.0675 - mean_absolute_error: 0.2039\n",
            "Epoch 3/5\n",
            "10000/10000 [==============================] - 0s 31us/sample - loss: 0.0532 - mean_absolute_error: 0.1789\n",
            "Epoch 4/5\n",
            "10000/10000 [==============================] - 0s 29us/sample - loss: 0.0437 - mean_absolute_error: 0.1650\n",
            "Epoch 5/5\n",
            "10000/10000 [==============================] - 0s 30us/sample - loss: 0.0389 - mean_absolute_error: 0.1566\n",
            "1000/1000 [==============================] - 0s 98us/sample - loss: 0.0146 - mean_absolute_error: 0.0885\n",
            "Testing Set MAE: 0.08845506\n"
          ],
          "name": "stdout"
        }
      ]
    },
    {
      "cell_type": "markdown",
      "metadata": {
        "id": "I0PpC3YywAqH",
        "colab_type": "text"
      },
      "source": [
        "\n",
        "\n",
        "---\n",
        "\n",
        "\n",
        "**Function #3**\n",
        "\n",
        "For my final function I chose: f(x) = sin(x1) + cos(x2) + sin(x3) + cos(x4) + sin(x5)\n",
        "\n",
        "I got a MAE of ~0.023 on the training dataset with my first initialization of the random dataset."
      ]
    },
    {
      "cell_type": "code",
      "metadata": {
        "id": "8AYgeGf0rxTE",
        "colab_type": "code",
        "outputId": "571affd4-e955-4aed-9612-d16c0f1c2e7d",
        "colab": {
          "base_uri": "https://localhost:8080/",
          "height": 243
        }
      },
      "source": [
        "from tensorflow.keras import models, layers\n",
        "import math\n",
        "\n",
        "# create labels for each function\n",
        "\n",
        "## uncomment for function 1 ##\n",
        "f1_train_labels = np.zeros(shape=(10000,1))\n",
        "f1_test_labels = np.zeros(shape=(1000,1))\n",
        "\n",
        "for x in range (0,9999):\n",
        "  f1_train_labels[x] = float(math.sin(my_x_train[x][0]) * math.cos(my_x_train[x][1]) * math.sin(my_x_train[x][2]) * math.cos(my_x_train[x][3]) * math.sin(my_x_train[x][4]))\n",
        "\n",
        "for y in range (0,999):\n",
        "  f1_test_labels[y] = float(math.sin(my_x_test[y][0]) * math.cos(my_x_test[y][1]) * math.sin(my_x_test[y][2]) * math.cos(my_x_test[y][3]) * math.sin(my_x_test[y][4]))\n",
        "\n",
        "\n",
        "# create model\n",
        "network = models.Sequential()\n",
        "network.add(layers.Dense(10000, activation='relu', input_shape=(5,)))\n",
        "network.add(layers.Dense(1, activation='linear'))\n",
        "\n",
        "# network compile\n",
        "network.compile(optimizer='rmsprop', \n",
        "  loss='mean_squared_error',\n",
        "  metrics=['mae'])\n",
        "\n",
        "\n",
        "# fit model (training)\n",
        "network.fit(my_x_train, f1_train_labels, epochs=5, batch_size=128)\n",
        "\n",
        "# evaluate results\n",
        "loss, mae = network.evaluate(my_x_test, f1_test_labels)\n",
        "print(\"Testing Set MAE: \" + str(mae))"
      ],
      "execution_count": 13,
      "outputs": [
        {
          "output_type": "stream",
          "text": [
            "Train on 10000 samples\n",
            "Epoch 1/5\n",
            "10000/10000 [==============================] - 0s 39us/sample - loss: 0.0158 - mean_absolute_error: 0.0765\n",
            "Epoch 2/5\n",
            "10000/10000 [==============================] - 0s 31us/sample - loss: 0.0020 - mean_absolute_error: 0.0336\n",
            "Epoch 3/5\n",
            "10000/10000 [==============================] - 0s 31us/sample - loss: 9.6119e-04 - mean_absolute_error: 0.0230\n",
            "Epoch 4/5\n",
            "10000/10000 [==============================] - 0s 29us/sample - loss: 6.6436e-04 - mean_absolute_error: 0.0198\n",
            "Epoch 5/5\n",
            "10000/10000 [==============================] - 0s 30us/sample - loss: 5.2544e-04 - mean_absolute_error: 0.0170\n",
            "1000/1000 [==============================] - 0s 97us/sample - loss: 1.3539e-04 - mean_absolute_error: 0.0079\n",
            "Testing Set MAE: 0.007946837\n"
          ],
          "name": "stdout"
        }
      ]
    },
    {
      "cell_type": "markdown",
      "metadata": {
        "id": "HfliGD72-beN",
        "colab_type": "text"
      },
      "source": [
        "# Step 3"
      ]
    },
    {
      "cell_type": "markdown",
      "metadata": {
        "id": "u5enzbIP44ah",
        "colab_type": "text"
      },
      "source": [
        "We now want to test what effect the amount of training data used has on the accuracy of the model. To do this, I will train models for each of the three functions defined above with varying amounts of training data (1000, 100, and 10) to see how each is affected by the decrease in training samples."
      ]
    },
    {
      "cell_type": "markdown",
      "metadata": {
        "id": "R4qN8T9TeQe1",
        "colab_type": "text"
      },
      "source": [
        "\n",
        "\n",
        "---\n",
        "**Function #1**\n"
      ]
    },
    {
      "cell_type": "code",
      "metadata": {
        "id": "YsjzI9uJeQvD",
        "colab_type": "code",
        "outputId": "e591c5cd-fd64-49fd-a105-2c9acfdcba42",
        "colab": {
          "base_uri": "https://localhost:8080/",
          "height": 1000
        }
      },
      "source": [
        "from tensorflow.keras import models, layers\n",
        "import math\n",
        "import matplotlib.pyplot as plt\n",
        "\n",
        "# --- 1000 training samples --- #\n",
        "\n",
        "my_x_train = np.random.random_sample((1000,5))\n",
        "my_x_test = np.random.random_sample((1000,5))\n",
        "\n",
        "f1_train_labels_1000 = np.zeros(shape=(1000,1))\n",
        "f1_test_labels = np.zeros(shape=(1000,1))\n",
        "\n",
        "for x in range (0,999):\n",
        "  f1_train_labels_1000[x] = float(my_x_train[x][0] + my_x_train[x][1]*2 + my_x_train[x][2]*3 + my_x_train[x][3]*4 + my_x_train[x][4]*5)\n",
        "\n",
        "for y in range (0,999):\n",
        "  f1_test_labels[y] = float(my_x_test[y][0] + my_x_test[y][1]*2 + my_x_test[y][2]*3 + my_x_test[y][3]*4 + my_x_test[y][4]*5)\n",
        "\n",
        "# create model\n",
        "network = models.Sequential()\n",
        "network.add(layers.Dense(1000, activation='relu', input_shape=(5,)))\n",
        "network.add(layers.Dense(1, activation='linear'))\n",
        "\n",
        "# network compile\n",
        "network.compile(optimizer='rmsprop', \n",
        "  loss='mean_squared_error',\n",
        "  metrics=['mae'])\n",
        "\n",
        "# fit model (training)\n",
        "network.fit(my_x_train, f1_train_labels_1000, epochs=5, batch_size=128)\n",
        "\n",
        "# evaluate results\n",
        "loss, mae = network.evaluate(my_x_test, f1_test_labels)\n",
        "print(\"Testing Set MAE: \" + str(mae))\n",
        "print(\"Testing Set Loss: \" + str(loss))\n",
        "\n",
        "# --- 100 training samples --- #\n",
        "\n",
        "my_x_train = my_x_train[0:100]\n",
        "\n",
        "f1_train_labels_100 = np.zeros(shape=(100,1))\n",
        "\n",
        "for x in range (0,99):\n",
        "  f1_train_labels_100[x] = float(my_x_train[x][0] + my_x_train[x][1]*2 + my_x_train[x][2]*3 + my_x_train[x][3]*4 + my_x_train[x][4]*5)\n",
        "\n",
        "# create model\n",
        "network2 = models.Sequential()\n",
        "network2.add(layers.Dense(100, activation='relu', input_shape=(5,)))\n",
        "network2.add(layers.Dense(1, activation='linear'))\n",
        "\n",
        "# network compile\n",
        "network2.compile(optimizer='rmsprop', \n",
        "  loss='mean_squared_error',\n",
        "  metrics=['mae'])\n",
        "\n",
        "\n",
        "# fit model (training)\n",
        "network2.fit(my_x_train, f1_train_labels_100, epochs=5, batch_size=128)\n",
        "\n",
        "# evaluate results\n",
        "loss2, mae2 = network2.evaluate(my_x_test, f1_test_labels)\n",
        "print(\"Testing Set MAE: \" + str(mae2))\n",
        "print(\"Testing Set Loss: \" + str(loss2))\n",
        "\n",
        "# --- 10 training samples --- #\n",
        "\n",
        "my_x_train = my_x_train[0:10]\n",
        "\n",
        "f2_train_labels_10 = np.zeros(shape=(10,1))\n",
        "\n",
        "for x in range (0,9):\n",
        "  f1_train_labels_10[x] = float(my_x_train[x][0] + my_x_train[x][1]*2 + my_x_train[x][2]*3 + my_x_train[x][3]*4 + my_x_train[x][4]*5)\n",
        "\n",
        "# create model\n",
        "network3 = models.Sequential()\n",
        "network3.add(layers.Dense(10, activation='relu', input_shape=(5,)))\n",
        "network3.add(layers.Dense(1, activation='linear'))\n",
        "\n",
        "# network compile\n",
        "network3.compile(optimizer='rmsprop', \n",
        "  loss='mean_squared_error',\n",
        "  metrics=['mae'])\n",
        "\n",
        "\n",
        "# fit model (training)\n",
        "history3 = network3.fit(my_x_train, f1_train_labels_10, epochs=5, batch_size=128)\n",
        "\n",
        "# evaluate results\n",
        "loss3, mae3 = network3.evaluate(my_x_test, f1_test_labels)\n",
        "print(\"Testing Set MAE: \" + str(mae3))\n",
        "print(\"Testing Set Loss: \" + str(loss3))\n",
        "\n",
        "# --- Plot results --- #\n",
        "x_values = [3, 2, 1]\n",
        "y_values = [loss, loss2, loss3]\n",
        "plt.plot(x_values, y_values, linewidth=3)\n",
        "plt.title('Loss vs Training Samples')\n",
        "plt.ylabel('Loss (test set)')\n",
        "plt.xlabel('Training Samples (logarithmic scale)')\n",
        "plt.show()\n",
        "\n",
        "y_values = [mae, mae2, mae3]\n",
        "plt.plot(x_values, y_values, linewidth=3)\n",
        "plt.title('MAE vs Training Samples')\n",
        "plt.ylabel('MAE (test set)')\n",
        "plt.xlabel('Training Samples (logarithmic scale)')\n",
        "plt.show()"
      ],
      "execution_count": 38,
      "outputs": [
        {
          "output_type": "stream",
          "text": [
            "Train on 1000 samples\n",
            "Epoch 1/5\n",
            "1000/1000 [==============================] - 0s 492us/sample - loss: 48.4431 - mean_absolute_error: 6.6717\n",
            "Epoch 2/5\n",
            "1000/1000 [==============================] - 0s 38us/sample - loss: 28.0460 - mean_absolute_error: 5.0085\n",
            "Epoch 3/5\n",
            "1000/1000 [==============================] - 0s 29us/sample - loss: 13.9195 - mean_absolute_error: 3.4249\n",
            "Epoch 4/5\n",
            "1000/1000 [==============================] - 0s 30us/sample - loss: 5.5696 - mean_absolute_error: 2.0391\n",
            "Epoch 5/5\n",
            "1000/1000 [==============================] - 0s 29us/sample - loss: 1.9504 - mean_absolute_error: 1.1328\n",
            "1000/1000 [==============================] - 0s 431us/sample - loss: 1.4005 - mean_absolute_error: 0.9395\n",
            "Testing Set MAE: 0.9395333\n",
            "Testing Set Loss: 1.4004687004089356\n",
            "Train on 100 samples\n",
            "Epoch 1/5\n",
            "100/100 [==============================] - 0s 4ms/sample - loss: 63.6291 - mean_absolute_error: 7.6990\n",
            "Epoch 2/5\n",
            "100/100 [==============================] - 0s 42us/sample - loss: 61.9774 - mean_absolute_error: 7.5953\n",
            "Epoch 3/5\n",
            "100/100 [==============================] - 0s 50us/sample - loss: 60.8040 - mean_absolute_error: 7.5220\n",
            "Epoch 4/5\n",
            "100/100 [==============================] - 0s 45us/sample - loss: 59.8278 - mean_absolute_error: 7.4609\n",
            "Epoch 5/5\n",
            "100/100 [==============================] - 0s 41us/sample - loss: 58.9620 - mean_absolute_error: 7.4061\n",
            "1000/1000 [==============================] - 0s 428us/sample - loss: 59.0366 - mean_absolute_error: 7.3876\n",
            "Testing Set MAE: 7.3875523\n",
            "Testing Set Loss: 59.03656207275391\n",
            "Train on 10 samples\n",
            "Epoch 1/5\n",
            "10/10 [==============================] - 0s 42ms/sample - loss: 62.5320 - mean_absolute_error: 7.3186\n",
            "Epoch 2/5\n",
            "10/10 [==============================] - 0s 466us/sample - loss: 61.8750 - mean_absolute_error: 7.2762\n",
            "Epoch 3/5\n",
            "10/10 [==============================] - 0s 520us/sample - loss: 61.4049 - mean_absolute_error: 7.2457\n",
            "Epoch 4/5\n",
            "10/10 [==============================] - 0s 597us/sample - loss: 61.0131 - mean_absolute_error: 7.2202\n",
            "Epoch 5/5\n",
            "10/10 [==============================] - 0s 479us/sample - loss: 60.6665 - mean_absolute_error: 7.1975\n",
            "1000/1000 [==============================] - 0s 472us/sample - loss: 67.3433 - mean_absolute_error: 7.9105\n",
            "Testing Set MAE: 7.91048\n",
            "Testing Set Loss: 67.34331970214843\n"
          ],
          "name": "stdout"
        },
        {
          "output_type": "display_data",
          "data": {
            "image/png": "[encoded data removed]",
            "text/plain": [
              "<Figure size 432x288 with 1 Axes>"
            ]
          },
          "metadata": {
            "tags": []
          }
        },
        {
          "output_type": "display_data",
          "data": {
            "image/png": "[encoded data removed]",
            "text/plain": [
              "<Figure size 432x288 with 1 Axes>"
            ]
          },
          "metadata": {
            "tags": []
          }
        }
      ]
    },
    {
      "cell_type": "markdown",
      "metadata": {
        "id": "0l_5bIDOe8iv",
        "colab_type": "text"
      },
      "source": [
        "\n",
        "\n",
        "---\n",
        "**Function #2**\n"
      ]
    },
    {
      "cell_type": "code",
      "metadata": {
        "id": "mFeiTOPoe81S",
        "colab_type": "code",
        "outputId": "ad129ceb-6d60-4f5c-b7bd-1fc2f60abb04",
        "colab": {
          "base_uri": "https://localhost:8080/",
          "height": 1000
        }
      },
      "source": [
        "from tensorflow.keras import models, layers\n",
        "import math\n",
        "\n",
        "# --- 1000 training samples --- #\n",
        "\n",
        "my_x_train = np.random.random_sample((1000,5))\n",
        "my_x_test = np.random.random_sample((1000,5))\n",
        "\n",
        "f2_train_labels_1000 = np.zeros(shape=(1000,1))\n",
        "f2_test_labels = np.zeros(shape=(1000,1))\n",
        "\n",
        "for x in range (0,999):\n",
        "  f2_train_labels_1000[x] = float(my_x_train[x][0] + my_x_train[x][1]*2 + my_x_train[x][2]*3 + my_x_train[x][3]*4 + my_x_train[x][4]*5)\n",
        "\n",
        "for y in range (0,999):\n",
        "  f2_test_labels[y] = float(my_x_test[y][0] + my_x_test[y][1]*2 + my_x_test[y][2]*3 + my_x_test[y][3]*4 + my_x_test[y][4]*5)\n",
        "\n",
        "# create model\n",
        "network = models.Sequential()\n",
        "network.add(layers.Dense(1000, activation='relu', input_shape=(5,)))\n",
        "network.add(layers.Dense(1, activation='linear'))\n",
        "\n",
        "# network compile\n",
        "network.compile(optimizer='rmsprop', \n",
        "  loss='mean_squared_error',\n",
        "  metrics=['mae'])\n",
        "\n",
        "# fit model (training)\n",
        "network.fit(my_x_train, f2_train_labels_1000, epochs=5, batch_size=128)\n",
        "\n",
        "# evaluate results\n",
        "loss, mae = network.evaluate(my_x_test, f2_test_labels)\n",
        "print(\"Testing Set MAE: \" + str(mae))\n",
        "print(\"Testing Set Loss: \" + str(loss))\n",
        "\n",
        "# --- 100 training samples --- #\n",
        "\n",
        "my_x_train = my_x_train[0:100]\n",
        "\n",
        "f2_train_labels_100 = np.zeros(shape=(100,1))\n",
        "\n",
        "for x in range (0,99):\n",
        "  f2_train_labels_100[x] = float(my_x_train[x][0] + my_x_train[x][1]*2 + my_x_train[x][2]*3 + my_x_train[x][3]*4 + my_x_train[x][4]*5)\n",
        "\n",
        "# create model\n",
        "network2 = models.Sequential()\n",
        "network2.add(layers.Dense(100, activation='relu', input_shape=(5,)))\n",
        "network2.add(layers.Dense(1, activation='linear'))\n",
        "\n",
        "# network compile\n",
        "network2.compile(optimizer='rmsprop', \n",
        "  loss='mean_squared_error',\n",
        "  metrics=['mae'])\n",
        "\n",
        "\n",
        "# fit model (training)\n",
        "network2.fit(my_x_train, f2_train_labels_100, epochs=5, batch_size=128)\n",
        "\n",
        "# evaluate results\n",
        "loss2, mae2 = network2.evaluate(my_x_test, f2_test_labels)\n",
        "print(\"Testing Set MAE: \" + str(mae2))\n",
        "print(\"Testing Set Loss: \" + str(loss2))\n",
        "\n",
        "# --- 10 training samples --- #\n",
        "\n",
        "my_x_train = my_x_train[0:10]\n",
        "\n",
        "f2_train_labels_10 = np.zeros(shape=(10,1))\n",
        "\n",
        "for x in range (0,9):\n",
        "  f2_train_labels_10[x] = float(my_x_train[x][0] + my_x_train[x][1]*2 + my_x_train[x][2]*3 + my_x_train[x][3]*4 + my_x_train[x][4]*5)\n",
        "\n",
        "# create model\n",
        "network3 = models.Sequential()\n",
        "network3.add(layers.Dense(10, activation='relu', input_shape=(5,)))\n",
        "network3.add(layers.Dense(1, activation='linear'))\n",
        "\n",
        "# network compile\n",
        "network3.compile(optimizer='rmsprop', \n",
        "  loss='mean_squared_error',\n",
        "  metrics=['mae'])\n",
        "\n",
        "\n",
        "# fit model (training)\n",
        "network3.fit(my_x_train, f2_train_labels_10, epochs=5, batch_size=128)\n",
        "\n",
        "# evaluate results\n",
        "loss3, mae3 = network3.evaluate(my_x_test, f2_test_labels)\n",
        "print(\"Testing Set MAE: \" + str(mae3))\n",
        "print(\"Testing Set Loss: \" + str(loss3))\n",
        "\n",
        "# --- Plot results --- #\n",
        "x_values = [3, 2, 1]\n",
        "y_values = [loss, loss2, loss3]\n",
        "plt.plot(x_values, y_values, linewidth=3)\n",
        "plt.title('Loss vs Training Samples')\n",
        "plt.ylabel('Loss (test set)')\n",
        "plt.xlabel('Training Samples (logarithmic scale)')\n",
        "plt.show()\n",
        "\n",
        "y_values = [mae, mae2, mae3]\n",
        "plt.plot(x_values, y_values, linewidth=3)\n",
        "plt.title('MAE vs Training Samples')\n",
        "plt.ylabel('MAE (test set)')\n",
        "plt.xlabel('Training Samples (logarithmic scale)')\n",
        "plt.show()"
      ],
      "execution_count": 36,
      "outputs": [
        {
          "output_type": "stream",
          "text": [
            "Train on 1000 samples\n",
            "Epoch 1/5\n",
            "1000/1000 [==============================] - 0s 393us/sample - loss: 50.2620 - mean_absolute_error: 6.7531\n",
            "Epoch 2/5\n",
            "1000/1000 [==============================] - 0s 32us/sample - loss: 29.5852 - mean_absolute_error: 5.1037\n",
            "Epoch 3/5\n",
            "1000/1000 [==============================] - 0s 31us/sample - loss: 14.6744 - mean_absolute_error: 3.4860\n",
            "Epoch 4/5\n",
            "1000/1000 [==============================] - 0s 28us/sample - loss: 5.8790 - mean_absolute_error: 2.0846\n",
            "Epoch 5/5\n",
            "1000/1000 [==============================] - 0s 30us/sample - loss: 2.1014 - mean_absolute_error: 1.1758\n",
            "1000/1000 [==============================] - 0s 394us/sample - loss: 1.2444 - mean_absolute_error: 0.8986\n",
            "Testing Set MAE: 0.8986305\n",
            "Testing Set Loss: 1.2443774223327637\n",
            "Train on 100 samples\n",
            "Epoch 1/5\n",
            "100/100 [==============================] - 0s 4ms/sample - loss: 56.9697 - mean_absolute_error: 7.1873\n",
            "Epoch 2/5\n",
            "100/100 [==============================] - 0s 42us/sample - loss: 55.5752 - mean_absolute_error: 7.0961\n",
            "Epoch 3/5\n",
            "100/100 [==============================] - 0s 37us/sample - loss: 54.5623 - mean_absolute_error: 7.0292\n",
            "Epoch 4/5\n",
            "100/100 [==============================] - 0s 39us/sample - loss: 53.7073 - mean_absolute_error: 6.9722\n",
            "Epoch 5/5\n",
            "100/100 [==============================] - 0s 37us/sample - loss: 52.9466 - mean_absolute_error: 6.9211\n",
            "1000/1000 [==============================] - 0s 423us/sample - loss: 51.3242 - mean_absolute_error: 6.8729\n",
            "Testing Set MAE: 6.872943\n",
            "Testing Set Loss: 51.324163940429685\n",
            "Train on 10 samples\n",
            "Epoch 1/5\n",
            "10/10 [==============================] - 0s 38ms/sample - loss: 46.9018 - mean_absolute_error: 6.3668\n",
            "Epoch 2/5\n",
            "10/10 [==============================] - 0s 339us/sample - loss: 46.3542 - mean_absolute_error: 6.3317\n",
            "Epoch 3/5\n",
            "10/10 [==============================] - 0s 405us/sample - loss: 45.9602 - mean_absolute_error: 6.3064\n",
            "Epoch 4/5\n",
            "10/10 [==============================] - 0s 403us/sample - loss: 45.6321 - mean_absolute_error: 6.2851\n",
            "Epoch 5/5\n",
            "10/10 [==============================] - 0s 386us/sample - loss: 45.3422 - mean_absolute_error: 6.2663\n",
            "1000/1000 [==============================] - 0s 420us/sample - loss: 50.0042 - mean_absolute_error: 6.7720\n",
            "Testing Set MAE: 6.771967\n",
            "Testing Set Loss: 50.00417828369141\n"
          ],
          "name": "stdout"
        },
        {
          "output_type": "display_data",
          "data": {
            "image/png": "[encoded data removed]",
            "text/plain": [
              "<Figure size 432x288 with 1 Axes>"
            ]
          },
          "metadata": {
            "tags": []
          }
        },
        {
          "output_type": "display_data",
          "data": {
            "image/png": "[encoded data removed]",
            "text/plain": [
              "<Figure size 432x288 with 1 Axes>"
            ]
          },
          "metadata": {
            "tags": []
          }
        }
      ]
    },
    {
      "cell_type": "markdown",
      "metadata": {
        "id": "QpSC-hsmcW-e",
        "colab_type": "text"
      },
      "source": [
        "\n",
        "\n",
        "---\n",
        "\n",
        "**Function #3**"
      ]
    },
    {
      "cell_type": "code",
      "metadata": {
        "id": "SBHMMayQ-hEx",
        "colab_type": "code",
        "outputId": "1fd87f6b-c124-4112-bbfa-7cb1dea9b96b",
        "colab": {
          "base_uri": "https://localhost:8080/",
          "height": 1000
        }
      },
      "source": [
        "from tensorflow.keras import models, layers\n",
        "import math\n",
        "\n",
        "# --- 1000 training samples --- #\n",
        "\n",
        "my_x_train = np.random.random_sample((1000,5))\n",
        "my_x_test = np.random.random_sample((1000,5))\n",
        "\n",
        "f3_train_labels = np.zeros(shape=(1000,1))\n",
        "f3_test_labels = np.zeros(shape=(1000,1))\n",
        "\n",
        "for x in range (0,999):\n",
        "  f3_train_labels[x] = float(math.sin(my_x_train[x][0]) * math.cos(my_x_train[x][1]) * math.sin(my_x_train[x][2]) * math.cos(my_x_train[x][3]) * math.sin(my_x_train[x][4]))\n",
        "\n",
        "for y in range (0,999):\n",
        "  f3_test_labels[y] = float(math.sin(my_x_test[y][0]) * math.cos(my_x_test[y][1]) * math.sin(my_x_test[y][2]) * math.cos(my_x_test[y][3]) * math.sin(my_x_test[y][4]))\n",
        "\n",
        "# create model\n",
        "network = models.Sequential()\n",
        "network.add(layers.Dense(1000, activation='relu', input_shape=(5,)))\n",
        "network.add(layers.Dense(1, activation='linear'))\n",
        "\n",
        "# network compile\n",
        "network.compile(optimizer='rmsprop', \n",
        "  loss='mean_squared_error',\n",
        "  metrics=['mae'])\n",
        "\n",
        "# fit model (training)\n",
        "network.fit(my_x_train, f3_train_labels, epochs=5, batch_size=128)\n",
        "\n",
        "# evaluate results\n",
        "loss, mae = network.evaluate(my_x_test, f3_test_labels)\n",
        "print(\"Testing Set MAE: \" + str(mae))\n",
        "print(\"Testing Set Loss: \" + str(loss))\n",
        "\n",
        "# --- 100 training samples --- #\n",
        "\n",
        "my_x_train = my_x_train[0:100]\n",
        "\n",
        "f3_train_labels_100 = np.zeros(shape=(100,1))\n",
        "\n",
        "for x in range (0,99):\n",
        "  f3_train_labels_100[x] = float(math.sin(my_x_train[x][0]) * math.cos(my_x_train[x][1]) * math.sin(my_x_train[x][2]) * math.cos(my_x_train[x][3]) * math.sin(my_x_train[x][4]))\n",
        "\n",
        "# create model\n",
        "network2 = models.Sequential()\n",
        "network2.add(layers.Dense(100, activation='relu', input_shape=(5,)))\n",
        "network2.add(layers.Dense(1, activation='linear'))\n",
        "\n",
        "# network compile\n",
        "network2.compile(optimizer='rmsprop', \n",
        "  loss='mean_squared_error',\n",
        "  metrics=['mae'])\n",
        "\n",
        "\n",
        "# fit model (training)\n",
        "network2.fit(my_x_train, f3_train_labels_100, epochs=5, batch_size=128)\n",
        "\n",
        "# evaluate results\n",
        "loss2, mae2 = network2.evaluate(my_x_test, f3_test_labels)\n",
        "print(\"Testing Set MAE: \" + str(mae2))\n",
        "print(\"Testing Set Loss: \" + str(loss2))\n",
        "\n",
        "# --- 10 training samples --- #\n",
        "\n",
        "my_x_train = my_x_train[0:10]\n",
        "\n",
        "f3_train_labels_10 = np.zeros(shape=(10,1))\n",
        "\n",
        "for x in range (0,9):\n",
        "  f3_train_labels_10[x] = float(math.sin(my_x_train[x][0]) * math.cos(my_x_train[x][1]) * math.sin(my_x_train[x][2]) * math.cos(my_x_train[x][3]) * math.sin(my_x_train[x][4]))\n",
        "\n",
        "# create model\n",
        "network3 = models.Sequential()\n",
        "network3.add(layers.Dense(10, activation='relu', input_shape=(5,)))\n",
        "network3.add(layers.Dense(1, activation='linear'))\n",
        "\n",
        "# network compile\n",
        "network3.compile(optimizer='rmsprop', \n",
        "  loss='mean_squared_error',\n",
        "  metrics=['mae'])\n",
        "\n",
        "\n",
        "# fit model (training)\n",
        "network3.fit(my_x_train, f3_train_labels_10, epochs=5, batch_size=128)\n",
        "\n",
        "# evaluate results\n",
        "loss3, mae3 = network3.evaluate(my_x_test, f3_test_labels)\n",
        "print(\"Testing Set MAE: \" + str(mae3))\n",
        "print(\"Testing Set Loss: \" + str(loss3))\n",
        "\n",
        "# --- Plot results --- #\n",
        "x_values = [3, 2, 1]\n",
        "y_values = [loss, loss2, loss3]\n",
        "plt.plot(x_values, y_values, linewidth=3)\n",
        "plt.title('Loss vs Training Samples')\n",
        "plt.ylabel('Loss (test set)')\n",
        "plt.xlabel('Training Samples (logarithmic scale)')\n",
        "plt.show()\n",
        "\n",
        "y_values = [mae, mae2, mae3]\n",
        "plt.plot(x_values, y_values, linewidth=3)\n",
        "plt.title('MAE vs Training Samples')\n",
        "plt.ylabel('MAE (test set)')\n",
        "plt.xlabel('Training Samples (logarithmic scale)')\n",
        "plt.show()"
      ],
      "execution_count": 39,
      "outputs": [
        {
          "output_type": "stream",
          "text": [
            "Train on 1000 samples\n",
            "Epoch 1/5\n",
            "1000/1000 [==============================] - 0s 459us/sample - loss: 0.0092 - mean_absolute_error: 0.0676\n",
            "Epoch 2/5\n",
            "1000/1000 [==============================] - 0s 43us/sample - loss: 0.0022 - mean_absolute_error: 0.0365\n",
            "Epoch 3/5\n",
            "1000/1000 [==============================] - 0s 35us/sample - loss: 0.0027 - mean_absolute_error: 0.0445\n",
            "Epoch 4/5\n",
            "1000/1000 [==============================] - 0s 33us/sample - loss: 0.0022 - mean_absolute_error: 0.0406\n",
            "Epoch 5/5\n",
            "1000/1000 [==============================] - 0s 31us/sample - loss: 0.0023 - mean_absolute_error: 0.0407\n",
            "1000/1000 [==============================] - 0s 468us/sample - loss: 0.0047 - mean_absolute_error: 0.0646\n",
            "Testing Set MAE: 0.06459708\n",
            "Testing Set Loss: 0.00465715079754591\n",
            "Train on 100 samples\n",
            "Epoch 1/5\n",
            "100/100 [==============================] - 0s 4ms/sample - loss: 0.0294 - mean_absolute_error: 0.1408\n",
            "Epoch 2/5\n",
            "100/100 [==============================] - 0s 55us/sample - loss: 0.0158 - mean_absolute_error: 0.1020\n",
            "Epoch 3/5\n",
            "100/100 [==============================] - 0s 46us/sample - loss: 0.0135 - mean_absolute_error: 0.0942\n",
            "Epoch 4/5\n",
            "100/100 [==============================] - 0s 36us/sample - loss: 0.0118 - mean_absolute_error: 0.0877\n",
            "Epoch 5/5\n",
            "100/100 [==============================] - 0s 50us/sample - loss: 0.0104 - mean_absolute_error: 0.0820\n",
            "1000/1000 [==============================] - 0s 474us/sample - loss: 0.0099 - mean_absolute_error: 0.0787\n",
            "Testing Set MAE: 0.0786958\n",
            "Testing Set Loss: 0.009921208187937737\n",
            "Train on 10 samples\n",
            "Epoch 1/5\n",
            "10/10 [==============================] - 0s 43ms/sample - loss: 0.1351 - mean_absolute_error: 0.3320\n",
            "Epoch 2/5\n",
            "10/10 [==============================] - 0s 557us/sample - loss: 0.1192 - mean_absolute_error: 0.3068\n",
            "Epoch 3/5\n",
            "10/10 [==============================] - 0s 506us/sample - loss: 0.1088 - mean_absolute_error: 0.2893\n",
            "Epoch 4/5\n",
            "10/10 [==============================] - 0s 470us/sample - loss: 0.1008 - mean_absolute_error: 0.2763\n",
            "Epoch 5/5\n",
            "10/10 [==============================] - 0s 527us/sample - loss: 0.0941 - mean_absolute_error: 0.2662\n",
            "1000/1000 [==============================] - 0s 461us/sample - loss: 0.1505 - mean_absolute_error: 0.3418\n",
            "Testing Set MAE: 0.34175348\n",
            "Testing Set Loss: 0.1505488246679306\n"
          ],
          "name": "stdout"
        },
        {
          "output_type": "display_data",
          "data": {
            "image/png": "[encoded data removed]",
            "text/plain": [
              "<Figure size 432x288 with 1 Axes>"
            ]
          },
          "metadata": {
            "tags": []
          }
        },
        {
          "output_type": "display_data",
          "data": {
            "image/png": "[encoded data removed]",
            "text/plain": [
              "<Figure size 432x288 with 1 Axes>"
            ]
          },
          "metadata": {
            "tags": []
          }
        }
      ]
    }
  ]
}